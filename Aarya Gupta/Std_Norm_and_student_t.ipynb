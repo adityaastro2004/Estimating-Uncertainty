{
 "cells": [
  {
   "cell_type": "markdown",
   "metadata": {},
   "source": [
    "The standard normal approach assumes the underlying distribution to be standard normal, and corresponding to this assumption, spits an interval.  \n",
    "In case of standard normal, it is a sort of known mean and known variance.  \n",
    "For modelling purposes, the underlying data used is uniform(-pi/3, +pi/3).  \n"
   ]
  },
  {
   "cell_type": "markdown",
   "metadata": {},
   "source": [
    "Behaviour of standard normal distribution and student-t distribution:  \n",
    "Considering 95% confidence => alpha = 0.975   \n",
    "standard normal for all n : 1.96  \n",
    "\n",
    "n = 10 => t : 2.228  \n",
    "n = 15 => t : 2.131  \n",
    "n = 20 => t: 2.086  \n",
    "n = 50 => t : 2.009  \n",
    "n = 100 => t : 1.984  \n",
    "As n increases, the value from student t table approaches standard normal table.  \n",
    "Considering input sample size to be of 15 (n=15); so that variability in confidence intervals of different approaches can be easily observed. "
   ]
  },
  {
   "cell_type": "code",
   "execution_count": 1,
   "metadata": {},
   "outputs": [],
   "source": [
    "import random\n",
    "import statistics\n",
    "import plotly.express as px\n",
    "import plotly.graph_objects as go\n",
    "import numpy as np\n",
    "from scipy.stats import norm, t\n",
    "import math\n",
    "import mplcursors\n",
    "\n",
    "def bootstrap(zdata,nreal):\n",
    "    realisations = []\n",
    "    zreal = []                            # declare an empty list to store the bootstrap repliations which contain mean of the \n",
    "                                          # bootstraped samples.\n",
    "    for l in range(nreal):              # loop over the L bootstrap realizations\n",
    "        samples = random.choices(zdata, k=len(zdata)) # n Monte Carlo simulations, sample with replacement\n",
    "        realisations.append(samples)\n",
    "        zreal.append(statistics.mean(samples))       # calculate the realization of the statistic and append to list\n",
    "    return [samples, zreal]                          # return the list of realizations of the statistic\n",
    "\n",
    "def get_95_percentile_points(distribution='normal', df=None):\n",
    "    alpha_values = [0.025, 0.975]  # For 95% confidence interval\n",
    "    if distribution == 'normal':\n",
    "        z_values = [norm.ppf(alpha) for alpha in alpha_values]\n",
    "    elif distribution == 't' and df is not None:\n",
    "        z_values = [t.ppf(alpha, df) for alpha in alpha_values]\n",
    "    else:\n",
    "        raise ValueError(\"Invalid distribution type or missing degrees of freedom for t-distribution.\")\n",
    "    return z_values"
   ]
  },
  {
   "cell_type": "code",
   "execution_count": 2,
   "metadata": {},
   "outputs": [
    {
     "name": "stdout",
     "output_type": "stream",
     "text": [
      "[-0.78955, 0.19791, -0.74579, -0.18308, -0.20509, -0.46446, -0.2372, -0.69018, -0.61964, -0.5206, -0.05388, -0.25221, 0.83341, -0.50465, -0.21878, 0.36718, 0.02098, -0.18524, -0.83748, -0.56284, -0.72398, -0.66846, -0.03114, 0.47464, 0.32176, 0.39194, 0.38065, 0.73446, 0.16616, -0.25699, -0.63649, -0.94266, -0.50672, -0.09472, -0.97663, 0.15956, -1.03581, -0.36229, 0.52945, 0.68411, 0.88278, -0.53309, 0.63983, -0.02253, 0.9727, -0.56364, 0.66577, 0.15941, 0.18364, -0.97163, -0.25659, 0.61026, -0.84101, 0.01466, -0.39806, -0.52586, 0.95905, 0.22652, -0.57838, 1.01571, -0.0641, 0.18988, 0.41737, 0.52003, -0.14285, 0.07316, 0.3011, 0.86493, 0.9577, -0.16432, -0.51033, -0.08211, 0.68952, -0.90543, 0.02379, 0.38152, 0.61872, -0.54173, 0.3768, -0.1397, -0.934, 0.60276, -0.2631, 0.03273, 0.88508, 0.65435, -0.13985, 0.69145, -0.71453, -0.85187, 0.7244, -0.14693, -0.65899, -0.65678, -0.95873, -1.02139, -0.51963, 0.88616, -0.04143, -0.80938, -0.94748, 0.89121, -1.00031, 0.60425, -0.82903, -0.78658, -0.56022, -0.30704, -0.40635, 0.1421, 0.67953, 0.98063, -0.99181, 0.51707, 0.12977, 0.35716, 0.01653, 0.83406, -0.54111, -0.5056, 0.91987, -0.06147, 0.20466, -0.07372, 0.08258, 0.68627, 0.5632, 0.8437, -1.00466, 0.17307, -0.76442, -0.10909, -0.08208, -0.84701, -0.8645, 0.58333, 0.68225, -0.32954, 0.4089, -0.69888, 0.95588, -0.3026, -0.84967, -0.21542, 0.51987, 0.97048, -0.36157, 0.81825, -0.0384, 0.8155, -0.20974, 0.02211, -0.5208, -0.12108, 0.7782, 0.85817, -0.8672, 0.144, 0.11579, -0.54696, 0.84287, 0.63688, 0.6596, -0.66308, -0.77761, 0.39605, 0.2702, 0.74318, 0.12578, 0.80989, -0.27832, 0.76862, -0.65804, -0.31626, -0.68105, 1.03569, 0.86641, -0.77964, 0.97667, 0.18069, 0.04131, 0.17094, 1.02002, 0.43158, 0.40135, 0.32268, 0.4774, 0.43972, -0.82725, -0.73903, -0.34841, 0.11563, -0.4008, -0.27705, 0.01018, 0.26169, -0.32819, -0.31807, 0.24209, -0.72607, -0.55138, -0.80094, -0.11635, -1.04362, -0.6501, -0.21397, -0.72362, 0.07313, -0.01335, -0.17886, 0.30677, 0.82227, -0.16218, -0.59487, -1.00908, 0.32641, 0.97311, 0.23539, -1.0119, 0.89176, -0.68984, -0.58637, 0.83449, -0.28685, 0.19017, 0.45308, -0.74269, 0.01909, -0.27365, -0.67684, 0.58676, -0.18679, 0.79163, -0.1246, -0.72128, -0.28772, -0.86843, 0.90119, -0.80302, -1.04283, 0.75424, -0.30439, -0.82288, -0.10264, -0.2291, 0.46482, -0.41756, 0.17198, -0.18652, -0.3352, -0.74986, 0.98866, 0.63865, 0.60283, 0.76453, -0.86671, -0.86233, -0.37459, -0.17105, 1.02752, -0.21128, 0.21145, 0.40674, 0.87435, -0.99307, 0.36499, 0.71424, 0.36444, -0.8537, 0.27037, -0.87227, 0.24563, 0.47775, 0.59102, -0.89701, -0.62438, -1.0347, -0.87092, 0.33094, 0.56631, 0.71112, -0.11129, -0.94743, 0.34829, -0.78925, 0.61834, -0.60347, 0.33342, -0.21047, -0.23217, -0.82665, -0.2854, 0.0652, 0.94908, -0.00102, 1.03971, 0.95691, 0.62519, 0.57589, 0.73068, -0.41982, 0.2418, 0.04341, -0.97706, 0.50716, -0.2832, -0.2074, -0.32437, -1.03577, -1.0153, -0.05051, -0.90402, -0.19946, -0.43786, -0.11496, 0.94339, -1.03253, -0.73995, 0.09922, 0.13024, -0.82638, 0.75057, 0.22928, 0.61323, -0.17946, 0.91305, -0.93115, -0.42044, 0.09055, 0.97611, 0.05031, 1.00363, 0.5341, -0.8308, 0.99416, -0.96139, 0.6483, 0.50506, -0.39417, -0.81191, 1.00959, -0.11601, 0.47199, -0.2644, -0.70011, 0.7347, -0.02266, 0.07344, -0.04808, -0.28027, -0.88982, 0.93937, 0.65285, 0.65455, 0.01005, -0.27732, -0.00237, -0.05521, -0.279, -0.89165, 0.46917, 0.22474, -0.57371, 0.94718, 0.80376, 0.4928, -0.27937, 0.66501, 0.98711, 0.12791, -0.37261, 0.38645, -0.60075, -0.29333, -0.12445, -0.87043, -0.44142, -0.58132, 0.6246, 0.37124, -0.2236, -0.51432, 0.11316, 0.67995, 0.63361, -0.67633, -1.02712, 0.29871, -0.24825, -0.60861, 0.11921, 0.07315, -0.42852, 0.98925, -0.25059, -0.27418, -0.95312, -0.28047, 0.78849, 0.76782, -0.20719, 0.74524, 0.089, 0.12285, 0.56229, 0.57681, 0.92751, 0.33729, -0.9386, -0.64637, -0.12119, 0.34909, -1.0446, 0.50794, -0.54535, 0.22118, -0.70491, 0.81079, -0.57569, 0.16316, -0.39263, 0.99827, -0.8469, 0.48709, 0.26407, -0.8321, -0.03722, -0.25397, 0.40796, -0.29376, 0.8149, 0.58551, -0.2817, 0.49255, -0.54229, -0.04228, 0.5105, 0.1818, 0.99603, -0.20654, 0.63487, 0.5732, -0.23942, 0.07031, 0.13869, 0.25934, -0.01175, -0.82538, -0.85411, 0.4537, 0.04476, -0.77609, 0.65046, 0.44945, 0.58006, -0.90796, 0.60821, 0.64537, 0.1473, 0.33411, -0.92118, 0.39175, -0.34349, -1.02332, 0.16934, 0.21305, -0.42986, -0.03458, 0.37805, 0.45281, -0.60655, -0.52021, 0.65279, 0.82987, 0.64466, 0.82227, 0.70776, 0.28467, -0.1124, 0.9659, 0.50194, -0.01771, 0.35231, -0.8579, 0.60235, 0.2446, -0.84982, -0.64901, -1.01807, -0.23543, -0.66181, 0.93427, 0.01151, 0.68543, -0.23018, -0.7219, 0.43187, -0.75521, 0.54131, -0.99138, 0.44659, -0.06165, 1.02229, 0.17073, 0.38358, 0.59675, 0.75124, -0.73578, 0.47848, -0.03403, 0.78419, 0.56514, -0.87195, -0.21625, -0.44552, 1.03841, -0.33963, 0.21881, 0.46457, -0.043, -0.5939, 0.62283, 0.63885, 0.93657, -0.81164, -0.35914, -0.90148, 0.88916, 0.35767, -1.03514, -0.27699, -0.7123, -0.23458, -1.02761, -0.39515, 0.77974, 0.06453, 0.30565, -0.24297, 0.45224, -0.64896, 0.16429, -0.15488, -0.6369, 0.6576, -1.00285, 0.65821, 0.65008, -0.24125, -0.49155, -0.73405, -0.92674, 0.96859, 1.04601, -0.91141, 0.7981, -0.55616, 0.12268, -0.01981, 1.02883, -0.1013, 0.23814, 0.14048, 0.56429, 0.44106, 0.27286, -0.17445, 0.97372, 0.78876, -0.2295, 0.05358, 0.17324, 0.85837, -0.48304, -0.19788, 0.90988, 0.9366, -0.9113, 0.50268, 0.33683, 0.05217, 0.77546, 0.64551, 0.61883, -0.83966, 0.98638, 0.24987, 0.02231, -0.77844, 0.77803, -0.63189, 0.35785, 0.96525, -0.10744, 0.79809, 1.03751, 0.55643, -0.33305, 0.84389, -0.91517, 0.54032, -0.45307, 0.06419, -0.3746, 0.02289, 0.92638, 0.86213, 0.13939, -0.9259, 0.07202, 0.97872, -0.55116, 0.42548, 0.13136, -0.34226, -0.53695, 0.97055, 0.61534, -0.97155, -0.89835, 0.2067, -0.87579, 0.94397, -0.55253, -0.32224, 0.80856, 0.66631, -1.00976, 0.62643, 0.45637, -0.22188, -0.64514, -0.97898, 0.49492, 0.3986, -0.75434, -0.93139, -0.14887, -0.99783, -0.76802, 0.86132, -0.85854, 0.68554, -0.26349, -0.78294, -0.88524, 0.72046, -0.81869, 0.89761, -0.54678, 0.12885, 0.28239, 0.04754, -0.66159, -0.73464, -0.25064, 0.82413, 0.1952, -0.02103, 0.56794, -0.72466, 0.83872, -0.36085, 0.84491, -0.57275, -0.84722, 0.18301, 0.51645, 1.00637, 0.30362, -0.58444, -0.65351, 0.34323, -1.03295, 1.02118, -0.92129, 0.22739, 0.1489, -0.03665, 0.59205, 0.58397, 0.9457, -0.64149, 1.02381, -0.40675, -0.53866, -0.45504, -0.14468, -0.94975, -0.24586, 0.84541, 0.17638, 0.634, -0.30601, 0.38725, -0.51613, 0.1211, -0.53662, 0.98281, 0.84526, -0.69828, 1.00896, 0.28626, 0.92572, 0.10221, -0.43775, 0.82193, 0.90345, -0.39281, -0.78037, 0.6401, 0.78212, 0.15542, 0.24969, 1.02397, -0.84337, -0.95254, 0.07519, -0.95106, -0.15857, 0.26116, 0.71419, 0.66384, 0.03892, -0.32822, -0.1277, 0.39959, -0.69601, 0.55029, -0.44555, -0.05213, 0.15642, -0.31031, -0.86775, 0.65703, 0.97088, -0.54592, 0.64484, 0.89271, -0.74736, 0.15852, -0.84004, 0.18263, -0.00953, 0.31377, 0.07779, 1.03542, 0.07453, 0.51242, -0.33915, 0.6578, 0.96182, 0.91998, -0.81662, 0.17739, -0.91908, 0.67872, 0.56323, -0.58448, 0.01305, -0.31107, 0.05707, 0.14759, -0.04362, -0.55829, 0.50296, -1.04438, 0.54768, 0.28987, -0.0351, -0.54257, -0.09027, 0.65042, 0.06822, -0.81729, -0.98251, 0.04278, -0.7471, -0.1066, 0.64495, 0.38129, -0.99635, -0.26455, -0.11932, -0.57521, 0.77203, 0.42696, 0.11632, -0.78062, -0.04553, 0.93953, -0.732, -0.22465, -0.6311, 0.23618, -0.90004, -0.40246, 0.56095, -0.88869, 0.62172, -0.8276, -0.19235, -0.1083, 0.47372, 1.03501, 0.28809, -0.69379, -0.69597, -0.5504, -0.3902, 0.01873, -0.46935, 0.75377, -0.37667, -0.54286, 0.26661, 0.61852, 0.68838, -0.97588, 0.83647, 0.95879, -0.29764, -0.62222, 0.2686, -0.53096, 0.18563, 0.07315, -0.83016, -0.75302, 0.62561, -0.08085, -1.00855, 0.98271, 1.01401, -0.13763, 0.47586, 0.801, 0.26621, 0.90882, -1.00565, -0.17822, 0.14761, -0.84228, -0.7368, -0.09559, -0.87577, 0.52104, -0.41577, -0.68128, -0.79441, 0.75768, 0.62139, 0.46908, 0.9924, -1.03679, -0.71535, 0.28805, -0.96704, 0.19446, -0.28458, -0.41987, -0.05805, -0.75227, 0.45838, -0.45491, 0.37496, -0.02158, 0.18017, 0.76818, -0.51132, -0.67181, 1.03618, 0.00524, 0.10753, -0.04531, -0.65039, -0.59861, 0.54279, -0.76373, 0.29664, 0.17956, 0.76575, -0.78574, 0.01993, 0.66778, 0.08172, 0.15203, -0.39692, -0.57444, 0.37106, -0.19976, 0.24127, 0.54985, -0.67268, -0.76006, 0.17293, -0.89912, -1.01298, 0.95553, 0.02072, 0.95982, 0.93937, -0.50974, -0.28712, 0.35441, 0.77222, 0.25476, 0.15157, 1.01776, -0.24187, 0.01348, -0.96873, 0.6481, -0.38696, -0.41931, -0.83619, 0.17525, 0.32792, -0.03338, 0.25298, -0.42993, -0.78226, -0.76152, -0.20083, -0.26264, -0.68492, 0.02854, 0.22662, 0.2615, 0.0266, 0.67405, -0.4702, 0.92666, 0.1681, -0.72339, -0.3085, -0.40551, 0.52441, 0.60182, -0.15405, 0.85689, 0.01107, -0.24046, 0.54007, 0.22861, 0.7103, 0.68621, 1.03988, 0.16868, -0.00448, 0.31928, 0.87701, 0.16125, 0.97116, 0.47315, 0.74609, -0.99506, 0.02069, 0.93247, -0.41624, 0.44769, 0.47727, -1.02128, -0.79281, -0.83728, -0.22005, 0.67523, 0.02244, -0.09574, 0.848, 0.40103, 0.1682, -0.3146, 0.99534, -0.38174, -0.16564, 0.47415, -0.24931, 0.62996, -0.86569, -0.80493, -0.22287, -0.6593, 0.4782, 0.70726, -0.43881, 0.64919, 0.49133, 0.88849, 0.39492, 0.18087, -0.31809, -0.30072, 0.2769, 0.4631, -0.38363, 0.0856, 0.21222, -0.49429, 0.40362]\n"
     ]
    }
   ],
   "source": [
    "# Reading the input file\n",
    "\n",
    "observedSamples = []\n",
    "with open('delta_theta_uniform_initial.txt', 'r') as file:\n",
    "    for line in file:\n",
    "        num_strings = line.strip().split(\", \")\n",
    "        nums = [round(float(num), 5) for num in num_strings]\n",
    "        observedSamples.extend(nums)\n",
    "BootstrapedSamples, MeanOfBootstrapedSamples = bootstrap(observedSamples, 1000) #No. of bootsraped samples is 1000.\n",
    "\n",
    "observedSamples_df_1000 = []\n",
    "with open('df_is_1000.txt', 'r') as file:\n",
    "    for line in file:\n",
    "        num_strings = line.strip().split(\", \")\n",
    "        nums = [round(float(num), 5) for num in num_strings]\n",
    "        observedSamples_df_1000.extend(nums)\n",
    "print(observedSamples_df_1000)\n",
    "BootstrapedSamples_for_1000_df, MeanOfBootstrapedSamples_for_1000_df = bootstrap(observedSamples_df_1000, 1000) #No. of bootsraped samples is 1000.\n",
    "\n"
   ]
  },
  {
   "cell_type": "markdown",
   "metadata": {},
   "source": [
    "Calculating the standard error."
   ]
  },
  {
   "cell_type": "markdown",
   "metadata": {},
   "source": [
    "Method 1. Approch to find standard error as suggested by book."
   ]
  },
  {
   "cell_type": "code",
   "execution_count": 3,
   "metadata": {},
   "outputs": [
    {
     "name": "stdout",
     "output_type": "stream",
     "text": [
      "0.17792400785089055\n"
     ]
    }
   ],
   "source": [
    "valToBeSubtracted = sum(MeanOfBootstrapedSamples)/len(MeanOfBootstrapedSamples)\n",
    "standardError = math.sqrt(sum((item - valToBeSubtracted) ** 2 for item in MeanOfBootstrapedSamples) / (len(MeanOfBootstrapedSamples) - 1))\n",
    "print(standardError)"
   ]
  },
  {
   "cell_type": "markdown",
   "metadata": {},
   "source": [
    "Method 2. In the context of bootstrap resampling, the standard deviation of the bootstrap sample means directly represents the standard error of the original sample mean."
   ]
  },
  {
   "cell_type": "code",
   "execution_count": 4,
   "metadata": {},
   "outputs": [
    {
     "name": "stdout",
     "output_type": "stream",
     "text": [
      "0.17792400785089058\n"
     ]
    }
   ],
   "source": [
    "standard_error = statistics.stdev(MeanOfBootstrapedSamples)\n",
    "print(standard_error)"
   ]
  },
  {
   "cell_type": "markdown",
   "metadata": {},
   "source": [
    "The confidence interval can be written as:\n",
    "1. In case of standard normal.\n",
    "\n",
    "$$\n",
    "\\hat{\\theta} \\pm Z^{(1-\\alpha)} \\cdot \\hat{\\text{se}}_B\\\\\n",
    "\n",
    "\\implies \\theta \\in \\left[ \\hat{\\theta} - Z^{(1-\\alpha)} \\cdot \\hat{\\text{se}}_B, \\; \\hat{\\theta} - Z^{\\alpha} \\cdot \\hat{\\text{se}}_B \\right]\n",
    "$$\n",
    "where, $\\newline$\n",
    "&nbsp;&nbsp;&nbsp;&nbsp;$Z^{(1-\\alpha)} = -Z^{\\alpha}$ $\\newline$\n",
    "&nbsp;&nbsp;&nbsp;&nbsp;$Z^{\\alpha}$ represents the 100.$\\alpha^{th}$ percentile point of N(0, 1) distribution. $\\newline$\n",
    "&nbsp;&nbsp;&nbsp;&nbsp;$\\hat{\\theta}$ represents the plug-in estimate (mean of the given sample).$\\newline$\n",
    "&nbsp;&nbsp;&nbsp;&nbsp;$\\theta$ represents the true mean of the unkown underlying distribution.$\\newline$\n",
    "&nbsp;&nbsp;&nbsp;&nbsp;$\\hat{\\text{se}}_B$ is the standard error calculated above.\n",
    "\n",
    "2. In case of student-t distribution.\n",
    "\n",
    "$$\n",
    "\\hat{\\theta} \\pm t_{n-1}^{(1-\\alpha)} \\cdot \\hat{\\text{se}}_B\\\\\n",
    "\n",
    "\\implies \\theta \\in \\left[ \\hat{\\theta} - t_{n-1}^{(1-\\alpha)} \\cdot \\hat{\\text{se}}_B, \\; \\hat{\\theta} - t_{n-1}^{\\alpha} \\cdot \\hat{\\text{se}}_B \\right]\n",
    "$$\n",
    "where, $\\newline$\n",
    "&nbsp;&nbsp;&nbsp;&nbsp;n is the degrees of freedom (given sample's size) $\\newline$\n",
    "&nbsp;&nbsp;&nbsp;&nbsp;$t_{n-1}^{(1-\\alpha)} = -t_{n-1}^{\\alpha}$ $\\newline$\n",
    "&nbsp;&nbsp;&nbsp;&nbsp;$t^{\\alpha}$ represents the 100.$\\alpha^{th}$ percentile point of student-t distribution. $\\newline$\n",
    "&nbsp;&nbsp;&nbsp;&nbsp;$\\hat{\\theta}$ represents the plug-in estimate (mean of the given sample).$\\newline$\n",
    "&nbsp;&nbsp;&nbsp;&nbsp;$\\theta$ represents the true mean of the unknown underlying distribution.$\\newline$\n",
    "&nbsp;&nbsp;&nbsp;&nbsp;$\\hat{\\text{se}}_B$ is the standard error calculated above.\n",
    "\n",
    "More about t-distribution:  \n",
    "1. Mean = 0  \n",
    "2. Degrees of Freedom (df or $\\nu$) = number of independent values or quantities that can vary in a statistical calculation.  \n",
    "&nbsp;&nbsp;[In our case, df is same as the sample size, as all the values in the sample will change after bootstraping.]$\\newline$\n",
    "3.\n",
    "$$ Variance =\n",
    "\\begin{cases} \n",
    "\\frac{\\nu}{\\nu - 2} & \\text{for } \\nu > 2 \\\\\n",
    "\\infty & \\text{for } \\nu < 2\n",
    "\\end{cases}$$\n",
    "\n",
    "4. For large $\\nu$, variance = 1; resulting in $\\mathcal{N}(0, 1)$.  \n",
    "5. n=1 forms Standard Cauchy Distribution.\n",
    "\n"
   ]
  },
  {
   "cell_type": "code",
   "execution_count": 5,
   "metadata": {},
   "outputs": [
    {
     "name": "stdout",
     "output_type": "stream",
     "text": [
      "Standard Normal Distribution Percentile Points for 95% confidence interval:\n",
      "z(0.025) = -1.960\n",
      "z(0.975) = 1.960\n",
      "\n",
      "Student's t-Distribution (df=15) Percentile Points for 95% confidence interval (df=10):\n",
      "t(0.025) = -2.131\n",
      "t(0.975) = 2.131\n",
      "\n",
      "Student's t-Distribution (df=1000) Percentile Points for 95% confidence interval (df=10):\n",
      "t(0.025) = -1.962\n",
      "t(0.975) = 1.962\n",
      "\n",
      "95% Confidence Interval (Standard Normal Distribution): [np.float64(0.3948179807061007), np.float64(-0.302631314039434)]\n",
      "95% Confidence Interval (Student's t-Distribution, df = 15): [np.float64(0.4253293790112074), np.float64(-0.33314271234454074)]\n",
      "95% Confidence Interval (Student's t-Distribution, df = 1000): [np.float64(0.39524056735640045), np.float64(-0.30305390068973376)]\n"
     ]
    }
   ],
   "source": [
    "# Mean as the plug in estimate\n",
    "plugInEstimate = statistics.mean(observedSamples)\n",
    "# plugInEstimate_df_1000 = statistics.mean(observedSamples_df_1000)\n",
    "# If we want a raw comparison between all, then we will assume that  there will exist a given data of size 1000, which has the \n",
    "# same mean as the mean of the given data of 15 entries. This is done so that the mean position about which the confidence \n",
    "# interval is made remains same; for an ideal visual comparison to be made.\n",
    "plugInEstimate_df_1000 = plugInEstimate   \n",
    "\n",
    "\n",
    "# For standard normal distribution\n",
    "normal_z_values = get_95_percentile_points('normal')\n",
    "\n",
    "print(\"Standard Normal Distribution Percentile Points for 95% confidence interval:\")\n",
    "for alpha, z in zip([0.025, 0.975], normal_z_values):\n",
    "    print(f\"z({alpha}) = {z:.3f}\")\n",
    "\n",
    "# For Student's t-distribution\n",
    "df = [15, 1000]\n",
    "# Case 1 : 15 degrees of freedom i.e. no. of observed values is 15.\n",
    "t_z_values_15 = get_95_percentile_points('t', df[0])\n",
    "print(\"\\nStudent's t-Distribution (df=15) Percentile Points for 95% confidence interval (df=10):\")\n",
    "for alpha, z in zip([0.025, 0.975], t_z_values_15):\n",
    "    print(f\"t({alpha}) = {z:.3f}\")\n",
    "\n",
    "# Case 2 : 1000 degrees of freedom i.e. no. of observed values is 1000.\n",
    "# Just to compare how student's t - prediction move towards normal distribution as no. of observed values increase.\n",
    "t_z_values_1000 = get_95_percentile_points('t', df[1])\n",
    "\n",
    "print(\"\\nStudent's t-Distribution (df=1000) Percentile Points for 95% confidence interval (df=10):\")\n",
    "for alpha, z in zip([0.025, 0.975], t_z_values_1000):\n",
    "    print(f\"t({alpha}) = {z:.3f}\")\n",
    "\n",
    "# Calculate confidence intervals\n",
    "normal_confidence_interval = [\n",
    "    plugInEstimate - normal_z_values[0] * standardError,\n",
    "    plugInEstimate - normal_z_values[1] * standardError\n",
    "]\n",
    "\n",
    "t_confidence_interval_15 = [\n",
    "    plugInEstimate - t_z_values_15[0] * standardError,\n",
    "    plugInEstimate - t_z_values_15[1] * standardError\n",
    "]\n",
    "\n",
    "t_confidence_interval_1000 = [\n",
    "    plugInEstimate_df_1000 - t_z_values_1000[0] * standardError,\n",
    "    plugInEstimate_df_1000 - t_z_values_1000[1] * standardError\n",
    "]\n",
    "\n",
    "print(\"\\n95% Confidence Interval (Standard Normal Distribution):\", normal_confidence_interval)\n",
    "print(\"95% Confidence Interval (Student's t-Distribution, df = 15):\", t_confidence_interval_15)\n",
    "print(\"95% Confidence Interval (Student's t-Distribution, df = 1000):\", t_confidence_interval_1000)\n",
    "\n"
   ]
  },
  {
   "cell_type": "markdown",
   "metadata": {},
   "source": [
    "One can observe that confidence interval in case of t-distrib. with a large degrees of freedom is equivalent to standard normal.  \n",
    "  \n",
    "why???\n",
    "\n",
    "1. Central Limit Theorem:\n",
    "\n",
    "According to the Central Limit Theorem, as the sample size increases, the sampling distribution of the sample mean approaches a normal distribution, regardless of the shape of the population distribution.\n",
    "\n",
    "2. t-Distribution:\n",
    "\n",
    "The t-distribution is used when estimating the population mean from a small sample size, and it accounts for the additional variability due to the small sample size. \n",
    "\n",
    "As the degrees of freedom (df) increase, the t-distribution approaches the standard normal distribution. This is because the additional variability (captured by the heavier tails) becomes less significant as the sample size increases, making the t-distribution narrower and more similar to the standard normal distribution."
   ]
  },
  {
   "cell_type": "markdown",
   "metadata": {},
   "source": [
    "Plotting"
   ]
  },
  {
   "cell_type": "code",
   "execution_count": 6,
   "metadata": {},
   "outputs": [],
   "source": [
    "# Plotting with Plotly\n",
    "# Standard Normal Distribution plot\n",
    "x_norm = np.linspace(-4, 4, 1000)\n",
    "y_norm = norm.pdf(x_norm)\n",
    "fig = go.Figure()\n",
    "\n",
    "fig.add_trace(go.Scatter(x=x_norm, y=y_norm, mode='lines', name='Standard Normal Distribution'))\n",
    "fig.add_trace(go.Scatter(x=[normal_confidence_interval[0], normal_confidence_interval[0]], y=[0, norm.pdf(normal_confidence_interval[0])], mode='lines', name='95% CI Lower Bound', line=dict(color='red', dash='dash')))\n",
    "fig.add_trace(go.Scatter(x=[normal_confidence_interval[1], normal_confidence_interval[1]], y=[0, norm.pdf(normal_confidence_interval[1])], mode='lines', name='95% CI Upper Bound', line=dict(color='red', dash='dash')))\n",
    "fig.add_trace(go.Scatter(x=[normal_confidence_interval[0], normal_confidence_interval[1]], y=[0, 0], mode='lines', fill='tonexty', fillcolor='rgba(255,0,0,0.1)', showlegend=False))\n",
    "\n",
    "# Add permanent labels for the confidence interval points with values\n",
    "fig.add_trace(go.Scatter(\n",
    "    x=[normal_confidence_interval[0]],\n",
    "    y=[0],  # Position the label slightly below the top of the curve\n",
    "    mode='markers+text',\n",
    "    text=[f'[{normal_confidence_interval[0]:.2f}]'],\n",
    "    textposition='top left',\n",
    "    marker=dict(color='red', size=3),\n",
    "    showlegend=False\n",
    "))\n",
    "\n",
    "fig.add_trace(go.Scatter(\n",
    "    x=[normal_confidence_interval[1]],\n",
    "    y=[0.0001],  # Position the label slightly below the top of the curve\n",
    "    mode='markers+text',\n",
    "    text=[f'[{normal_confidence_interval[1]:.2f}]'],\n",
    "    textposition='top right',\n",
    "    marker=dict(color='red', size=3),\n",
    "    showlegend=False\n",
    "))\n",
    "\n",
    "fig.update_layout(title='Standard Normal Distribution with 95% Confidence Interval', xaxis_title='x', yaxis_title='Probability Density')\n",
    "\n",
    "# Save and open the figure in a web browser\n",
    "import plotly.io as pio\n",
    "pio.write_html(fig, 'standard_normal_distribution.html')\n",
    "\n",
    "\n",
    "# Student's t-Distribution (df = 15) plot\n",
    "x_t = np.linspace(-4, 4, 1000)\n",
    "y_t = t.pdf(x_t, df[0])\n",
    "fig2 = go.Figure()\n",
    "\n",
    "fig2.add_trace(go.Scatter(x=x_t, y=y_t, mode='lines', name=f\"Student's t-Distribution (df={df[0]})\"))\n",
    "fig2.add_trace(go.Scatter(x=[t_confidence_interval_15[0], t_confidence_interval_15[0]], y=[0, t.pdf(t_confidence_interval_15[0], df[0])], mode='lines', name='95% CI Lower Bound', line=dict(color='red', dash='dash')))\n",
    "fig2.add_trace(go.Scatter(x=[t_confidence_interval_15[1], t_confidence_interval_15[1]], y=[0, t.pdf(t_confidence_interval_15[1], df[0])], mode='lines', name='95% CI Upper Bound', line=dict(color='red', dash='dash')))\n",
    "fig2.add_trace(go.Scatter(x=[t_confidence_interval_15[0], t_confidence_interval_15[1]], y=[0, 0], mode='lines', fill='tonexty', fillcolor='rgba(255,0,0,0.1)', showlegend=False))\n",
    "\n",
    "# Add permanent labels for the confidence interval points with values\n",
    "fig2.add_trace(go.Scatter(\n",
    "    x=[t_confidence_interval_15[0]],\n",
    "    y=[0],  # Position the label slightly below the top of the curve\n",
    "    mode='markers+text',\n",
    "    text=[f'[{t_confidence_interval_15[0]:.2f}]'],\n",
    "    textposition='top left',\n",
    "    marker=dict(color='red', size=3),\n",
    "    showlegend=False\n",
    "))\n",
    "\n",
    "fig2.add_trace(go.Scatter(\n",
    "    x=[t_confidence_interval_15[1]],\n",
    "    y=[0.0001],  # Position the label slightly below the top of the curve\n",
    "    mode='markers+text',\n",
    "    text=[f'[{t_confidence_interval_15[1]:.2f}]'],\n",
    "    textposition='top right',\n",
    "    marker=dict(color='red', size=3),\n",
    "    showlegend=False\n",
    "))\n",
    "\n",
    "fig2.update_layout(title=f\"Student's t-Distribution with 95% Confidence Interval (df={df[0]})\", xaxis_title='x', yaxis_title='Probability Density')\n",
    "\n",
    "# Save and open the figure in a web browser\n",
    "import plotly.io as pio\n",
    "pio.write_html(fig2, 'student_t_distribution_15.html')\n",
    "\n",
    "# Student's t-Distribution (df = 1000) plot\n",
    "x_t = np.linspace(-4, 4, 1000)\n",
    "y_t = t.pdf(x_t, df[1])\n",
    "fig3 = go.Figure()\n",
    "\n",
    "fig3.add_trace(go.Scatter(x=x_t, y=y_t, mode='lines', name=f\"Student's t-Distribution (df={df[1]})\"))\n",
    "fig3.add_trace(go.Scatter(x=[t_confidence_interval_1000[0], t_confidence_interval_1000[0]], y=[0, t.pdf(t_confidence_interval_1000[0], df[1])], mode='lines', name='95% Confidence Interval Lower Bound', line=dict(color='red', dash='dash')))\n",
    "fig3.add_trace(go.Scatter(x=[t_confidence_interval_1000[1], t_confidence_interval_1000[1]], y=[0, t.pdf(t_confidence_interval_1000[1], df[1])], mode='lines', name='95% Confidence Interval Upper Bound', line=dict(color='red', dash='dash')))\n",
    "fig3.add_trace(go.Scatter(x=[t_confidence_interval_1000[0], t_confidence_interval_1000[1]], y=[0, 0], mode='lines', fill='tonexty', fillcolor='rgba(255,0,0,0.1)', showlegend=False))\n",
    "\n",
    "# Add permanent labels for the confidence interval points with values\n",
    "fig3.add_trace(go.Scatter(\n",
    "    x=[t_confidence_interval_1000[0]],\n",
    "    y=[0],  # Position the label slightly below the top of the curve\n",
    "    mode='markers+text',\n",
    "    text=[f'[{t_confidence_interval_1000[0]:.2f}]'],\n",
    "    textposition='top left',\n",
    "    marker=dict(color='red', size=3),\n",
    "    showlegend=False\n",
    "))\n",
    "\n",
    "fig3.add_trace(go.Scatter(\n",
    "    x=[t_confidence_interval_1000[1]],\n",
    "    y=[0.0001],  # Position the label slightly below the top of the curve\n",
    "    mode='markers+text',\n",
    "    text=[f'[{t_confidence_interval_1000[1]:.2f}]'],\n",
    "    textposition='top right',\n",
    "    marker=dict(color='red', size=3),\n",
    "    showlegend=False\n",
    "))\n",
    "\n",
    "fig3.update_layout(title=f\"Student's t-Distribution with 95% Confidence Interval (df={df[1]})\", xaxis_title='x', yaxis_title='Probability Density')\n",
    "\n",
    "# Save and open the figure in a web browser\n",
    "pio.write_html(fig3, 'student_t_distribution_1000.html')"
   ]
  },
  {
   "cell_type": "markdown",
   "metadata": {},
   "source": [
    "Conclusion:  \n",
    "student's t provide a bigger interval than std. normal for df = 15.  \n",
    "but as df increases, the student't interval tends to std. normal interval.  \n",
    "df => Degrees of Freedom"
   ]
  }
 ],
 "metadata": {
  "kernelspec": {
   "display_name": "Python 3",
   "language": "python",
   "name": "python3"
  },
  "language_info": {
   "codemirror_mode": {
    "name": "ipython",
    "version": 3
   },
   "file_extension": ".py",
   "mimetype": "text/x-python",
   "name": "python",
   "nbconvert_exporter": "python",
   "pygments_lexer": "ipython3",
   "version": "3.12.3"
  }
 },
 "nbformat": 4,
 "nbformat_minor": 2
}
