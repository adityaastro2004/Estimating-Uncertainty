{
 "cells": [
  {
   "cell_type": "markdown",
   "metadata": {},
   "source": [
    "# Bootstrap-t Method"
   ]
  },
  {
   "cell_type": "markdown",
   "metadata": {},
   "source": [
    "DEFINING RELEVANT FUNCTIONS."
   ]
  },
  {
   "cell_type": "code",
   "execution_count": 1,
   "metadata": {},
   "outputs": [],
   "source": [
    "import numpy as np\n",
    "import math\n",
    "import random\n",
    "import statistics\n",
    "import seaborn as sns\n",
    "import matplotlib.pyplot as plt\n",
    "import plotly.graph_objects as go\n",
    "from scipy.stats import gaussian_kde\n",
    "from scipy.stats import norm\n",
    "import plotly.io as pio\n",
    "\n",
    "def bootstrap(zdata,nreal):\n",
    "        realisations = []\n",
    "        zreal = []                            # declare an empty list to store the bootstrap repliations which contain mean of the \n",
    "                                            # bootstraped samples.\n",
    "        for l in range(0,nreal):              # loop over the L bootstrap realizations\n",
    "            samples = random.choices(zdata, k=len(zdata)) # n Monte Carlo simulations, sample with replacement\n",
    "            realisations.append(samples)\n",
    "            zreal.append(statistics.mean(samples))       # calculate the realization of the statistic and append to list\n",
    "        return [samples, zreal]                          # return the list of realizations of the statistic\n",
    "\n",
    "def bootstrap_t_percentile(observed_samples, n_bootstrap=1000):\n",
    "    \"\"\"\n",
    "    Perform bootstrap resampling on the observed_samples and return the ith percentile points of the t-statistic.\n",
    "    \n",
    "    Parameters:\n",
    "    - i (int): The percentile to compute (e.g., 95 for the 95th percentile).\n",
    "    - observed_samples (list or np.array): The list of observed samples.\n",
    "    - n_bootstrap (int): The number of bootstrap resamples to perform.\n",
    "    \n",
    "    Returns:\n",
    "    - float: The ith percentile point of the bootstrap t-statistics.\n",
    "    \"\"\"\n",
    "    observed_samples = np.array(observed_samples)\n",
    "    n = len(observed_samples)\n",
    "    means = np.empty(n_bootstrap)\n",
    "    stds = np.empty(n_bootstrap)\n",
    "    \n",
    "    for j in range(n_bootstrap):\n",
    "        sample = np.random.choice(observed_samples, size=n, replace=True)\n",
    "        means[j] = np.mean(sample)\n",
    "        stds[j] = np.std(sample, ddof=1)\n",
    "    \n",
    "    # Calculate t-statistics\n",
    "    t_statistics = (means - np.mean(observed_samples)) / (stds / np.sqrt(n))\n",
    "    \n",
    "    return t_statistics, statistics.mean(means)"
   ]
  },
  {
   "cell_type": "code",
   "execution_count": 2,
   "metadata": {},
   "outputs": [],
   "source": [
    "# Reading the input file\n",
    "\n",
    "observedSamples = []\n",
    "with open('input_files/uniform_df_15.txt', 'r') as file:\n",
    "    for line in file:\n",
    "        num_strings = line.strip().split(\", \")\n",
    "        nums = [round(float(num), 5) for num in num_strings]\n",
    "        observedSamples.extend(nums)\n",
    "BootstrapedSamples, MeanOfBootstrapedSamples = bootstrap(observedSamples, 1000) #No. of bootsraped samples is 1000."
   ]
  },
  {
   "cell_type": "markdown",
   "metadata": {},
   "source": [
    "Standard Error Calculation."
   ]
  },
  {
   "cell_type": "code",
   "execution_count": 3,
   "metadata": {},
   "outputs": [
    {
     "name": "stdout",
     "output_type": "stream",
     "text": [
      "0.17439460613300856\n"
     ]
    }
   ],
   "source": [
    "valToBeSubtracted = sum(MeanOfBootstrapedSamples)/len(MeanOfBootstrapedSamples)\n",
    "standardError = math.sqrt(sum((item - valToBeSubtracted) ** 2 for item in MeanOfBootstrapedSamples) / (len(MeanOfBootstrapedSamples) - 1))\n",
    "print(standardError)"
   ]
  },
  {
   "cell_type": "markdown",
   "metadata": {},
   "source": [
    "The confidence interval can be written as:\n",
    "$$\n",
    "\\hat{\\theta} \\pm \\hat{t}^{(1-\\alpha)} \\cdot \\hat{\\text{se}}_B\\\\\n",
    "\n",
    "\\implies \\theta \\in \\left[ \\hat{\\theta} - \\hat{t}^{(1-\\alpha)} \\cdot \\hat{\\text{se}}_B, \\; \\hat{\\theta} - \\hat{t}^{\\alpha} \\cdot \\hat{\\text{se}}_B \\right]\n",
    "$$\n",
    "where, $\\newline$\n",
    "$\\hat{t}^{(1-\\alpha)} = -\\hat{t}^{\\alpha}$ $\\newline$\n",
    "$\\hat{t}^{\\alpha}$ represents the 100.$\\alpha^{th}$ percentile point of bootstrap-t distribution. $\\newline$\n",
    "$\\hat{\\theta}$ represents the plug-in estimate (mean of the given sample).$\\newline$\n",
    "$\\theta$ represents the true mean of the underlying distribution.$\\newline$\n",
    "$\\hat{\\text{se}}_B$ is the standard error calculated above."
   ]
  },
  {
   "cell_type": "code",
   "execution_count": 4,
   "metadata": {},
   "outputs": [
    {
     "name": "stdout",
     "output_type": "stream",
     "text": [
      "5th percentile at -1.67 and 95th percentile at 1.69.\n"
     ]
    }
   ],
   "source": [
    "plugInEstimate = statistics.mean(observedSamples)\n",
    "\n",
    "t_statistics = bootstrap_t_percentile(observedSamples)\n",
    "bootstrap_t_5 = np.percentile(t_statistics[0], 5)\n",
    "bootstrap_t_95 = np.percentile(t_statistics[0], 95)\n",
    "bootstrap_t_values = [bootstrap_t_5, bootstrap_t_95]\n",
    "\n",
    "print(f\"5th percentile at {bootstrap_t_5:.2f} and 95th percentile at {bootstrap_t_95:.2f}.\")"
   ]
  },
  {
   "cell_type": "markdown",
   "metadata": {},
   "source": [
    "Finding Confidence Intervals."
   ]
  },
  {
   "cell_type": "code",
   "execution_count": 5,
   "metadata": {},
   "outputs": [
    {
     "name": "stdout",
     "output_type": "stream",
     "text": [
      "95% Confidence Interval (Uniform): [np.float64(0.33768234422946036), np.float64(-0.248795935627854)]\n"
     ]
    }
   ],
   "source": [
    "# Calculate confidence intervals\n",
    "bootstrap_t_confidence_interval = [\n",
    "    plugInEstimate - bootstrap_t_values[0] * standardError,\n",
    "    plugInEstimate - bootstrap_t_values[1] * standardError\n",
    "]\n",
    "print(\"95% Confidence Interval (Uniform):\", bootstrap_t_confidence_interval)"
   ]
  },
  {
   "cell_type": "markdown",
   "metadata": {},
   "source": [
    "Plotting"
   ]
  },
  {
   "cell_type": "code",
   "execution_count": 6,
   "metadata": {},
   "outputs": [],
   "source": [
    "# Plotting with Plotly\n",
    "fig = go.Figure()\n",
    "\n",
    "# Calculate KDE using scipy\n",
    "kde = gaussian_kde(t_statistics[0], bw_method='scott')\n",
    "x = np.linspace(min(t_statistics[0]), max(t_statistics[0]), 1000)\n",
    "y = kde(x)\n",
    "\n",
    "# Plot the KDE of the t-statistics\n",
    "fig.add_trace(go.Scatter(x=x, y=y, mode='lines', name='Bootstrap T-Statistic Distribution'))\n",
    "\n",
    "# Mark the confidence interval\n",
    "fig.add_trace(go.Scatter(x=[bootstrap_t_confidence_interval[0], bootstrap_t_confidence_interval[0]], y=[0, max(y)], mode='lines', name='95% CI Lower Bound', line=dict(color='red', dash='dash')))\n",
    "fig.add_trace(go.Scatter(x=[bootstrap_t_confidence_interval[1], bootstrap_t_confidence_interval[1]], y=[0, max(y)], mode='lines', name='95% CI Upper Bound', line=dict(color='red', dash='dash')))\n",
    "fig.add_trace(go.Scatter(x=[bootstrap_t_confidence_interval[0], bootstrap_t_confidence_interval[1]], y=[0, 0], mode='lines', fill='tonexty', fillcolor='rgba(255,0,0,0.1)', showlegend=False))\n",
    "\n",
    "# Add permanent labels for the confidence interval points with values\n",
    "fig.add_trace(go.Scatter(\n",
    "    x=[bootstrap_t_confidence_interval[0]],\n",
    "    y=[0],  # Position the label slightly below the top of the curve\n",
    "    mode='markers+text',\n",
    "    text=[f'[{bootstrap_t_confidence_interval[0]:.2f}]'],\n",
    "    textposition='top left',\n",
    "    marker=dict(color='red', size=3),\n",
    "    showlegend=False\n",
    "))\n",
    "\n",
    "fig.add_trace(go.Scatter(\n",
    "    x=[bootstrap_t_confidence_interval[1]],\n",
    "    y=[0.0001],  # Position the label slightly below the top of the curve\n",
    "    mode='markers+text',\n",
    "    text=[f'[{bootstrap_t_confidence_interval[1]:.2f}]'],\n",
    "    textposition='top right',\n",
    "    marker=dict(color='red', size=3),\n",
    "    showlegend=False\n",
    "))\n",
    "\n",
    "# Update layout with labeled x-axis\n",
    "fig.update_layout(\n",
    "    title='Bootstrap T-Statistic Distribution with 95% Confidence Interval',\n",
    "    xaxis_title='T-Statistic Value',\n",
    "    yaxis_title='Density'\n",
    ")\n",
    "\n",
    "# Save and open the figure in a web browser\n",
    "import plotly.io as pio\n",
    "pio.write_html(fig, 'outputs/bootstrap_t_uniform.html')"
   ]
  },
  {
   "cell_type": "markdown",
   "metadata": {},
   "source": [
    "Doing the same procedure, but for given data of type log normal; so as to observe how well bootstrap-t performs in case of skewed distributions."
   ]
  },
  {
   "cell_type": "markdown",
   "metadata": {},
   "source": [
    "# Defining a boot function  \n",
    "This function will take input file, and output file as the parameters; and display the resultant pdf with the required confidence intervals in the output file.  \n",
    "Function 'boot' is made to deploy code reusability, so that the same code can be executed for different input files."
   ]
  },
  {
   "cell_type": "code",
   "execution_count": 7,
   "metadata": {},
   "outputs": [],
   "source": [
    "def boot(inputf, outputf):\n",
    "    import numpy as np\n",
    "    import math\n",
    "    import random\n",
    "    import statistics\n",
    "    import seaborn as sns\n",
    "    import matplotlib.pyplot as plt\n",
    "    import plotly.graph_objects as go\n",
    "    from scipy.stats import gaussian_kde\n",
    "    from scipy.stats import norm\n",
    "    import plotly.io as pio\n",
    "\n",
    "    def bootstrap(zdata,nreal):\n",
    "        realisations = []\n",
    "        zreal = []                            # declare an empty list to store the bootstrap repliations which contain mean of the \n",
    "                                            # bootstraped samples.\n",
    "        for l in range(0,nreal):              # loop over the L bootstrap realizations\n",
    "            samples = random.choices(zdata, k=len(zdata)) # n Monte Carlo simulations, sample with replacement\n",
    "            realisations.append(samples)\n",
    "            zreal.append(statistics.mean(samples))       # calculate the realization of the statistic and append to list\n",
    "        return [samples, zreal]                          # return the list of realizations of the statistic\n",
    "\n",
    "    def bootstrap_t_percentile(observed_samples, n_bootstrap=1000):\n",
    "        \"\"\"\n",
    "        Perform bootstrap resampling on the observed_samples and return the ith percentile points of the t-statistic.\n",
    "        \n",
    "        Parameters:\n",
    "        - i (int): The percentile to compute (e.g., 95 for the 95th percentile).\n",
    "        - observed_samples (list or np.array): The list of observed samples.\n",
    "        - n_bootstrap (int): The number of bootstrap resamples to perform.\n",
    "        \n",
    "        Returns:\n",
    "        - float: The ith percentile point of the bootstrap t-statistics.\n",
    "        \"\"\"\n",
    "        observed_samples = np.array(observed_samples)\n",
    "        n = len(observed_samples)\n",
    "        means = np.empty(n_bootstrap)\n",
    "        stds = np.empty(n_bootstrap)\n",
    "        \n",
    "        for j in range(n_bootstrap):\n",
    "            sample = np.random.choice(observed_samples, size=n, replace=True)\n",
    "            means[j] = np.mean(sample)\n",
    "            stds[j] = np.std(sample, ddof=1)\n",
    "        \n",
    "        # Calculate t-statistics\n",
    "        t_statistics = (means - np.mean(observed_samples)) / (stds / np.sqrt(n))\n",
    "        \n",
    "        return t_statistics, statistics.mean(means)\n",
    "\n",
    "\n",
    "    # Reading the input file\n",
    "    print(str(inputf))\n",
    "    observedSamples = []\n",
    "    with open(inputf, 'r') as file:\n",
    "        for line in file:\n",
    "            num_strings = line.strip().split(\", \")\n",
    "            nums = [round(float(num), 5) for num in num_strings]\n",
    "            observedSamples.extend(nums)\n",
    "    BootstrapedSamples, MeanOfBootstrapedSamples = bootstrap(observedSamples, 1000) #No. of bootsraped samples is 1000.\n",
    "\n",
    "    plugInEstimate = statistics.mean(observedSamples)\n",
    "\n",
    "    t_statistics, sampledMean = bootstrap_t_percentile(observedSamples)\n",
    "    bootstrap_t_5 = np.percentile(t_statistics, 5)\n",
    "    bootstrap_t_95 = np.percentile(t_statistics, 95)\n",
    "    bootstrap_t_values = [bootstrap_t_5, bootstrap_t_95]\n",
    "\n",
    "    print(f\"5th percentile at {bootstrap_t_5:.2f} and 95th percentile at {bootstrap_t_95:.2f}.\")\n",
    "\n",
    "    # Calculate confidence intervals\n",
    "    bootstrap_t_confidence_interval = [\n",
    "        sampledMean + bootstrap_t_values[0] * standardError,\n",
    "        sampledMean + bootstrap_t_values[1] * standardError\n",
    "    ]\n",
    "    print(\"95% Confidence Interval :\", bootstrap_t_confidence_interval)\n",
    "\n",
    "    # Plotting with Plotly\n",
    "    fig = go.Figure()\n",
    "\n",
    "    # Calculate KDE using scipy\n",
    "    kde = gaussian_kde(t_statistics, bw_method='scott')\n",
    "    x = np.linspace(min(t_statistics), max(t_statistics), 1000)\n",
    "    y = kde(x)\n",
    "\n",
    "    # Plot the KDE of the t-statistics\n",
    "    fig.add_trace(go.Scatter(x=x, y=y, mode='lines', name='Bootstrap T-Statistic Distribution)'))\n",
    "\n",
    "    # Mark the confidence interval\n",
    "    fig.add_trace(go.Scatter(x=[bootstrap_t_confidence_interval[0], bootstrap_t_confidence_interval[0]], y=[0, max(y)], mode='lines', name='95% CI Lower Bound', line=dict(color='red', dash='dash')))\n",
    "    fig.add_trace(go.Scatter(x=[bootstrap_t_confidence_interval[1], bootstrap_t_confidence_interval[1]], y=[0, max(y)], mode='lines', name='95% CI Upper Bound', line=dict(color='red', dash='dash')))\n",
    "    fig.add_trace(go.Scatter(x=[bootstrap_t_confidence_interval[0], bootstrap_t_confidence_interval[1]], y=[0, 0], mode='lines', fill='tonexty', fillcolor='rgba(255,0,0,0.1)', showlegend=False))\n",
    "\n",
    "    # Add permanent labels for the confidence interval points with values\n",
    "    fig.add_trace(go.Scatter(\n",
    "        x=[bootstrap_t_confidence_interval[0]],\n",
    "        y=[0],  # Position the label slightly below the top of the curve\n",
    "        mode='markers+text',\n",
    "        text=[f'[{bootstrap_t_confidence_interval[0]:.2f}]'],\n",
    "        textposition='top left',\n",
    "        marker=dict(color='red', size=3),\n",
    "        showlegend=False\n",
    "    ))\n",
    "\n",
    "    fig.add_trace(go.Scatter(\n",
    "        x=[bootstrap_t_confidence_interval[1]],\n",
    "        y=[0.0001],  # Position the label slightly below the top of the curve\n",
    "        mode='markers+text',\n",
    "        text=[f'[{bootstrap_t_confidence_interval[1]:.2f}]'],\n",
    "        textposition='top right',\n",
    "        marker=dict(color='red', size=3),\n",
    "        showlegend=False\n",
    "    ))\n",
    "\n",
    "    # Update layout with labeled x-axis\n",
    "    fig.update_layout(\n",
    "        title=f'Bootstrap T-Statistic Distribution with 95% Confidence Interval (Input File : {inputf})',\n",
    "        xaxis_title='T-Statistic Value',\n",
    "        yaxis_title='Density'   \n",
    "    )\n",
    "\n",
    "    # Save and open the figure in a web browser\n",
    "    import plotly.io as pio\n",
    "    pio.write_html(fig, outputf)\n",
    "    print()"
   ]
  },
  {
   "cell_type": "markdown",
   "metadata": {},
   "source": [
    "## Executing boot function for various types of input. \n",
    "### Remember that the sample's size is very small (15), hence it's possible that the sample is not a good representative of its parent pdf."
   ]
  },
  {
   "cell_type": "code",
   "execution_count": 8,
   "metadata": {},
   "outputs": [
    {
     "name": "stdout",
     "output_type": "stream",
     "text": [
      "input_files/gamma_df_15.txt\n",
      "5th percentile at -2.04 and 95th percentile at 1.57.\n",
      "95% Confidence Interval : [np.float64(2.8752476203194823), np.float64(3.5042898860379723)]\n",
      "\n",
      "input_files/beta_df_15.txt\n",
      "5th percentile at -1.73 and 95th percentile at 1.71.\n",
      "95% Confidence Interval : [np.float64(-0.021702832370590786), np.float64(0.5775979426843598)]\n",
      "\n",
      "input_files/exponential_df_15.txt\n",
      "5th percentile at -2.51 and 95th percentile at 1.47.\n",
      "95% Confidence Interval : [np.float64(0.26910084952633984), np.float64(0.9635180921270544)]\n",
      "\n",
      "input_files/log_normal_df_15.txt\n",
      "5th percentile at -1.84 and 95th percentile at 1.54.\n",
      "95% Confidence Interval : [np.float64(1.7048240669467316), np.float64(2.2935810560137195)]\n",
      "\n"
     ]
    }
   ],
   "source": [
    "# Values drawn from an gamma pdf.\n",
    "# Underlying Distribution's [shape, scale] = [2, 2]; Sample's [Mean, Median, Variance] = [3.2, 2.9, 3.9]\n",
    "boot('input_files/gamma_df_15.txt', 'outputs/bootstrap_t_gamma.html')\n",
    "\n",
    "# Values drawn from an beta pdf.\n",
    "# Underlying Distribution's [alpha, beta] = [2, 5]; Sample's [Mean, Median, Variance] = [0.27, 0.3, 0.02]\n",
    "boot('input_files/beta_df_15.txt', 'outputs/bootstrap_t_beta.html')\n",
    "\n",
    "# Values drawn from an exponential pdf.\n",
    "# Underlying Distribution's [lambda] = [1]; Sample's [Mean, Median, Variance] = [0.7, 0.58, 0.42]\n",
    "# [Mean can't be -ve for exponential functions]\n",
    "boot('input_files/exponential_df_15.txt', 'outputs/bootstrap_t_exponential.html')\n",
    "\n",
    "# Values drawn from a log-normal pdf. \n",
    "# Underlying Distribution's [Mean, Variance] = [0, 1]; Sample's [Mean, Median, Variance] = [2.01, 1.404, 2.8]\n",
    "# [Mean can't be -ve for log-normal functions]\n",
    "boot('input_files/log_normal_df_15.txt', 'outputs/bootstrap_t_log_normal.html')\n"
   ]
  }
 ],
 "metadata": {
  "kernelspec": {
   "display_name": "Python 3",
   "language": "python",
   "name": "python3"
  },
  "language_info": {
   "codemirror_mode": {
    "name": "ipython",
    "version": 3
   },
   "file_extension": ".py",
   "mimetype": "text/x-python",
   "name": "python",
   "nbconvert_exporter": "python",
   "pygments_lexer": "ipython3",
   "version": "3.12.3"
  }
 },
 "nbformat": 4,
 "nbformat_minor": 2
}
